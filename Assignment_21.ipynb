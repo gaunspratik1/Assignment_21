{
 "cells": [
  {
   "cell_type": "markdown",
   "id": "3a99df9f",
   "metadata": {},
   "source": [
    "1. Add the current date to the text file today.txt as a string."
   ]
  },
  {
   "cell_type": "code",
   "execution_count": 1,
   "id": "f6f50bef",
   "metadata": {},
   "outputs": [],
   "source": [
    "import datetime"
   ]
  },
  {
   "cell_type": "code",
   "execution_count": 2,
   "id": "b874fe23",
   "metadata": {},
   "outputs": [],
   "source": [
    "current_date = datetime.date.today()"
   ]
  },
  {
   "cell_type": "code",
   "execution_count": 3,
   "id": "3e15f95a",
   "metadata": {},
   "outputs": [
    {
     "data": {
      "text/plain": [
       "datetime.date(2023, 6, 4)"
      ]
     },
     "execution_count": 3,
     "metadata": {},
     "output_type": "execute_result"
    }
   ],
   "source": [
    "current_date"
   ]
  },
  {
   "cell_type": "code",
   "execution_count": 4,
   "id": "67b3a6bb",
   "metadata": {},
   "outputs": [],
   "source": [
    "current_date_str = current_date.strftime(\"%d-%m-%Y\")"
   ]
  },
  {
   "cell_type": "code",
   "execution_count": 5,
   "id": "95ea76b9",
   "metadata": {},
   "outputs": [
    {
     "data": {
      "text/plain": [
       "'04-06-2023'"
      ]
     },
     "execution_count": 5,
     "metadata": {},
     "output_type": "execute_result"
    }
   ],
   "source": [
    "current_date_str"
   ]
  },
  {
   "cell_type": "code",
   "execution_count": 6,
   "id": "e1686a69",
   "metadata": {},
   "outputs": [],
   "source": [
    "with open(\"today.txt\", \"w\") as w:\n",
    "    w.write(current_date_str)"
   ]
  },
  {
   "cell_type": "markdown",
   "id": "a536133e",
   "metadata": {},
   "source": [
    "2. Read the text file today.txt into the string today_string"
   ]
  },
  {
   "cell_type": "code",
   "execution_count": 9,
   "id": "313263bc",
   "metadata": {},
   "outputs": [],
   "source": [
    "with open(\"today.txt\", \"r\") as r:\n",
    "     today_string = r.read()"
   ]
  },
  {
   "cell_type": "code",
   "execution_count": 11,
   "id": "61b031de",
   "metadata": {},
   "outputs": [
    {
     "data": {
      "text/plain": [
       "'04-06-2023'"
      ]
     },
     "execution_count": 11,
     "metadata": {},
     "output_type": "execute_result"
    }
   ],
   "source": [
    "today_string"
   ]
  },
  {
   "cell_type": "markdown",
   "id": "ce7ce1cd",
   "metadata": {},
   "source": [
    "3. Parse the date from today_string."
   ]
  },
  {
   "cell_type": "markdown",
   "id": "46313124",
   "metadata": {},
   "source": [
    "4. List the files in your current directory"
   ]
  },
  {
   "cell_type": "code",
   "execution_count": 17,
   "id": "441111c9",
   "metadata": {},
   "outputs": [
    {
     "name": "stdout",
     "output_type": "stream",
     "text": [
      "C:\\Users\\PRATIK\n",
      ".astropy\n",
      ".bash_history\n",
      ".businessobjects\n",
      ".conda\n",
      ".condarc\n",
      ".continuum\n",
      ".cufflinks\n",
      ".docker\n",
      ".gitconfig\n",
      ".ipython\n",
      ".jupyter\n",
      ".lesshst\n",
      ".matplotlib\n",
      ".ms-ad\n",
      ".opera\n",
      ".oracle_jre_usage\n",
      ".ssh\n",
      ".vscode\n",
      ".vscode-cli\n",
      "3D Objects\n",
      "anaconda3\n",
      "AppData\n",
      "Application Data\n",
      "Contacts\n",
      "Cookies\n",
      "Documents\n",
      "Downloads\n",
      "Favorites\n",
      "IntelGraphicsProfiles\n",
      "Links\n",
      "Local Settings\n",
      "log69.txt\n",
      "Music\n",
      "My Documents\n",
      "NetHood\n",
      "NTUSER.DAT\n",
      "ntuser.dat.LOG1\n",
      "ntuser.dat.LOG2\n",
      "NTUSER.DAT{53b39e88-18c4-11ea-a811-000d3aa4692b}.TM.blf\n",
      "NTUSER.DAT{53b39e88-18c4-11ea-a811-000d3aa4692b}.TMContainer00000000000000000001.regtrans-ms\n",
      "NTUSER.DAT{53b39e88-18c4-11ea-a811-000d3aa4692b}.TMContainer00000000000000000002.regtrans-ms\n",
      "ntuser.ini\n",
      "OneDrive\n",
      "Postman\n",
      "PrintHood\n",
      "Recent\n",
      "Saved Games\n",
      "ScStore\n",
      "seaborn-data\n",
      "Searches\n",
      "SendTo\n",
      "source\n",
      "Start Menu\n",
      "Sti_Trace.log\n",
      "Templates\n",
      "Videos\n",
      "_netrc\n"
     ]
    }
   ],
   "source": [
    "import os\n",
    "cwd = os.getcwd()\n",
    "print(cwd)\n",
    "files = os.listdir(cwd)\n",
    "for file in files:\n",
    "    print(file)"
   ]
  },
  {
   "cell_type": "markdown",
   "id": "3015029d",
   "metadata": {},
   "source": [
    "5. Create a list of all of the files in your parent directory (minimum five files should be available)."
   ]
  },
  {
   "cell_type": "code",
   "execution_count": 30,
   "id": "4a1e8320",
   "metadata": {},
   "outputs": [
    {
     "name": "stdout",
     "output_type": "stream",
     "text": [
      "['.astropy', '.bash_history', '.businessobjects', '.conda', '.condarc', '.continuum', '.cufflinks', '.docker', '.gitconfig', '.ipython', '.jupyter', '.lesshst', '.matplotlib', '.ms-ad', '.opera', '.oracle_jre_usage', '.ssh', '.vscode', '.vscode-cli', '3D Objects', 'anaconda3', 'AppData', 'Application Data', 'Contacts', 'Cookies', 'Documents', 'Downloads', 'Favorites', 'IntelGraphicsProfiles', 'Links', 'Local Settings', 'log69.txt', 'Music', 'My Documents', 'NetHood', 'NTUSER.DAT', 'ntuser.dat.LOG1', 'ntuser.dat.LOG2', 'NTUSER.DAT{53b39e88-18c4-11ea-a811-000d3aa4692b}.TM.blf', 'NTUSER.DAT{53b39e88-18c4-11ea-a811-000d3aa4692b}.TMContainer00000000000000000001.regtrans-ms', 'NTUSER.DAT{53b39e88-18c4-11ea-a811-000d3aa4692b}.TMContainer00000000000000000002.regtrans-ms', 'ntuser.ini', 'OneDrive', 'Postman', 'PrintHood', 'Recent', 'Saved Games', 'ScStore', 'seaborn-data', 'Searches', 'SendTo', 'source', 'Start Menu', 'Sti_Trace.log', 'Templates', 'Videos', '_netrc']\n"
     ]
    }
   ],
   "source": [
    "cwd = os.getcwd()\n",
    "files = os.listdir(cwd)\n",
    "print(files)"
   ]
  },
  {
   "cell_type": "markdown",
   "id": "836891af",
   "metadata": {},
   "source": [
    "6. Use multiprocessing to create three separate processes. Make each one wait a random number of seconds between one and five, print the current time, and then exit."
   ]
  },
  {
   "cell_type": "code",
   "execution_count": 31,
   "id": "408a673d",
   "metadata": {},
   "outputs": [],
   "source": []
  },
  {
   "cell_type": "markdown",
   "id": "b7468c3b",
   "metadata": {},
   "source": [
    "7. Create a date object of your day of birth."
   ]
  },
  {
   "cell_type": "code",
   "execution_count": 42,
   "id": "9caff33f",
   "metadata": {},
   "outputs": [],
   "source": [
    "class DOB:\n",
    "    def __init__(self, d,m,y):\n",
    "        self.d = d\n",
    "        self.m = m\n",
    "        self.y = y"
   ]
  },
  {
   "cell_type": "code",
   "execution_count": 45,
   "id": "b8a24ba6",
   "metadata": {},
   "outputs": [],
   "source": [
    "my_dob = DOB(28,5,1997)"
   ]
  },
  {
   "cell_type": "markdown",
   "id": "6ff878dc",
   "metadata": {},
   "source": [
    "my_dob is my date of birth object"
   ]
  },
  {
   "cell_type": "markdown",
   "id": "a947436a",
   "metadata": {},
   "source": [
    "8. What day of the week was your day of birth?"
   ]
  },
  {
   "cell_type": "code",
   "execution_count": 46,
   "id": "eb5d6836",
   "metadata": {},
   "outputs": [
    {
     "name": "stdout",
     "output_type": "stream",
     "text": [
      "Wednesday\n"
     ]
    }
   ],
   "source": [
    "DOB = datetime.date(1997, 5, 28) \n",
    "\n",
    "day_of_birth = DOB.strftime(\"%A\")\n",
    "\n",
    "print(day_of_birth)"
   ]
  },
  {
   "cell_type": "markdown",
   "id": "906bc44c",
   "metadata": {},
   "source": [
    "9. When will you be (or when were you) 10,000 days old?"
   ]
  },
  {
   "cell_type": "code",
   "execution_count": 47,
   "id": "89a9394b",
   "metadata": {},
   "outputs": [
    {
     "name": "stdout",
     "output_type": "stream",
     "text": [
      "2024-10-13\n"
     ]
    }
   ],
   "source": [
    "number_of_days = 10000\n",
    "\n",
    "target_date = DOB + datetime.timedelta(days=number_of_days)\n",
    "\n",
    "print(target_date)"
   ]
  },
  {
   "cell_type": "code",
   "execution_count": null,
   "id": "35163d97",
   "metadata": {},
   "outputs": [],
   "source": []
  }
 ],
 "metadata": {
  "kernelspec": {
   "display_name": "Python 3 (ipykernel)",
   "language": "python",
   "name": "python3"
  },
  "language_info": {
   "codemirror_mode": {
    "name": "ipython",
    "version": 3
   },
   "file_extension": ".py",
   "mimetype": "text/x-python",
   "name": "python",
   "nbconvert_exporter": "python",
   "pygments_lexer": "ipython3",
   "version": "3.9.12"
  }
 },
 "nbformat": 4,
 "nbformat_minor": 5
}
